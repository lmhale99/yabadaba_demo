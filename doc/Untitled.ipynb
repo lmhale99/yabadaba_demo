{
 "cells": [
  {
   "cell_type": "markdown",
   "id": "98c22f00-e6a2-45db-936e-101f4bc06c5a",
   "metadata": {},
   "source": [
    "# Introduction to yabadaba\n",
    "\n",
    "Lucas Hale"
   ]
  },
  {
   "cell_type": "markdown",
   "id": "67023cd2-137c-485e-9e60-f34935772c3d",
   "metadata": {},
   "source": [
    "## Origin Story\n",
    "\n",
    "The yabadaba package came out of the work on the Interatomic Potentials Repository (IPR) project.  "
   ]
  },
  {
   "cell_type": "markdown",
   "id": "68bab9f9-795a-416c-a2df-5288b1b8d093",
   "metadata": {},
   "source": [
    "### Development of the IPR website\n",
    "\n",
    "When I started at NIST, the IPR was a static website that was rendered from < 100 text input files.\n",
    "\n",
    "![IPR](IPR.png)\n",
    "\n",
    "The content in those text files was ported to XML with the eventual goal of being in a MDCS/CDCS curator. That curatator now exists at potentials.nist.gov\n",
    "\n",
    "![CDCS](CDCS.png)\n",
    "\n",
    "Building on the curator's REST APIs, the potentials Python package was created to provide user-friendly Python-based APIs to the content in potentials.nist.gov\n",
    "\n",
    "![API](API.png)\n"
   ]
  },
  {
   "cell_type": "markdown",
   "id": "e616602e-b0e8-4711-8aa2-44e84471cbd1",
   "metadata": {},
   "source": [
    "### Calculation framework\n",
    "\n",
    "At the same time as the above, a calculation framework called iprPy was developed to support high throughput workflows of calculations.\n",
    "\n",
    "![calcs](calc_folders.png)\n",
    "\n",
    "This framework was designed with a number of design considerations in mind\n",
    "1. Computing basic crystalline properties in high throughput across all hosted potentials.\n",
    "2. Making the methodologies of each property calculation accessible, reproducible, reusable, and transferable.\n",
    "3. Having a modular design to better allow the development of more property methods.\n",
    "4. Calculation results are automatically uploaded and stored in a database upon completion.\n",
    "5. The data is to become FAIR once made publicly available in a CDCS curator. \n",
    "6. The processed property predictions are to be added to the IPR website.\n",
    "\n",
    "![results](results.png) \n",
    "\n",
    " "
   ]
  },
  {
   "cell_type": "markdown",
   "id": "4a8b4cd2-f37d-4d37-8cbe-53f72ad6ccff",
   "metadata": {},
   "source": [
    "### Revelation\n",
    "\n",
    "As I was working on all the different tools and features mentioned above, I one day realized that the website content management, the user-friendly API, and the calculation framework were all doing similar data and database interactions. With a little bit of work, I could take the best parts of each of the different tools for the database interactions and extract them into a new core package.  But, what to call the new package?\n",
    "\n",
    "__yabadaba: Yay! A base database!__ "
   ]
  },
  {
   "cell_type": "markdown",
   "id": "ae742330-1cef-4fad-a30b-c1a949f40116",
   "metadata": {},
   "source": []
  }
 ],
 "metadata": {
  "kernelspec": {
   "display_name": "Python 311",
   "language": "python",
   "name": "py11"
  },
  "language_info": {
   "codemirror_mode": {
    "name": "ipython",
    "version": 3
   },
   "file_extension": ".py",
   "mimetype": "text/x-python",
   "name": "python",
   "nbconvert_exporter": "python",
   "pygments_lexer": "ipython3",
   "version": "3.11.5"
  }
 },
 "nbformat": 4,
 "nbformat_minor": 5
}
