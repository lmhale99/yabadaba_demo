{
 "cells": [
  {
   "cell_type": "markdown",
   "id": "1fbfefa0-cbbc-45a9-8c24-fff766659076",
   "metadata": {},
   "source": [
    "# 2. Interacting with records in databases using yabadaba\n",
    "\n",
    "This Notebook builds upon the previous one and shows how to interact with records that are stored within databases."
   ]
  },
  {
   "cell_type": "markdown",
   "id": "0d0db262-0fd6-4bf1-ae66-2d029f36fe4c",
   "metadata": {},
   "source": [
    "## Adding Records to yabadaba\n",
    "\n",
    "As mentioned in the previous Notebook, yabadaba by default does not have any Record classes.  You must add Record classes to the recordmanager before the Database operations will work."
   ]
  },
  {
   "cell_type": "code",
   "execution_count": 1,
   "id": "b68ebcf3-6a04-44c7-9c0f-6ab34a72e4c2",
   "metadata": {},
   "outputs": [],
   "source": [
    "import yabadaba"
   ]
  },
  {
   "cell_type": "code",
   "execution_count": 2,
   "id": "d0c1c33e-ce85-4dc6-9920-59a5073cff5e",
   "metadata": {},
   "outputs": [
    {
     "name": "stdout",
     "output_type": "stream",
     "text": [
      "Record styles that passed import:\n",
      "Record styles that failed import:\n",
      "\n"
     ]
    }
   ],
   "source": [
    "yabadaba.recordmanager.check_styles()"
   ]
  },
  {
   "cell_type": "markdown",
   "id": "22d715ef-0a43-428c-ba23-d8da7b85b0e5",
   "metadata": {},
   "source": [
    "Here, I'm importing yabadaba_demo which has definitions for a few Record examples, including FAQ. It also imports yabadaba.recordmanager and incorporates the Record styles into it using the recordmanager.import_styles() method."
   ]
  },
  {
   "cell_type": "code",
   "execution_count": 3,
   "id": "8b6e1e20-4728-4d10-b4d4-20b3f466f5fc",
   "metadata": {},
   "outputs": [],
   "source": [
    "import sys\n",
    "\n",
    "# Append local path to yabadaba_demo - not needed if package is in cwd or is installed\n",
    "sys.path.append('../')\n",
    "import yabadaba_demo"
   ]
  },
  {
   "cell_type": "code",
   "execution_count": 4,
   "id": "aaae62dc-9e4c-4bf0-9289-3c2bed43beef",
   "metadata": {},
   "outputs": [
    {
     "name": "stdout",
     "output_type": "stream",
     "text": [
      "Record styles that passed import:\n",
      "- faq: <class 'yabadaba_demo.record.faq.FAQ.FAQ'>\n",
      "- demo: <class 'yabadaba_demo.record.demo.Demo.Demo'>\n",
      "Record styles that failed import:\n",
      "- bad_record: <class 'ModuleNotFoundError'>: No module named 'package_that_does_not_exist'\n",
      "\n"
     ]
    }
   ],
   "source": [
    "yabadaba.recordmanager.check_styles()"
   ]
  },
  {
   "cell_type": "markdown",
   "id": "56808c9e-7fe3-469b-9a5b-e9d1f876af62",
   "metadata": {},
   "source": [
    "Note that one of the Record styles failed import due to a missing package. The recordmanager.import_styles() method allows for such imports to soft-fail rather than hard fail allowing for different modules to have more package requirements than the base code.  "
   ]
  },
  {
   "cell_type": "markdown",
   "id": "fe3eabfa-d176-4de2-abe8-18e3b48aaf5a",
   "metadata": {},
   "source": [
    "## Specifying a database\n",
    "\n",
    "The Database objects are initialized by specifying database style and any other parameters necessary to access it.  These access parameters are remembered so that all subsequent database interactions use them without needing to be respecified.\n",
    "\n",
    "Here, we will simply define a 'local' database consisting of JSON files in a directory on this machine."
   ]
  },
  {
   "cell_type": "code",
   "execution_count": 5,
   "id": "1b0c8cab-5432-479e-bd01-2983ccce4555",
   "metadata": {},
   "outputs": [
    {
     "name": "stdout",
     "output_type": "stream",
     "text": [
      "database style local at /home/lmh1/Python-packages/yabadaba_demo/doc/demo_database\n"
     ]
    }
   ],
   "source": [
    "database = yabadaba.load_database(style='local', host='./demo_database')\n",
    "print(database)"
   ]
  },
  {
   "cell_type": "markdown",
   "id": "044dade1-fd4c-4e47-bf28-90e95eb3f567",
   "metadata": {},
   "source": [
    "You can define your database every time, or you can use yabadaba.settings to save the settings for a database under a simple string name for later use."
   ]
  },
  {
   "cell_type": "markdown",
   "id": "c368f4bc-050a-4faf-a9f9-105ee30e3706",
   "metadata": {},
   "source": [
    "## Getting records\n",
    "\n",
    "Records can be retrieved from the database using one of three methods\n",
    "- __get_records()__ retrieves all matching records and returns them as Record objects.  If you specify \"return_df=True\", it will also return a pandas.DataFrame containing the metadata fields for the records.\n",
    "- __get_records_df()__ does the same thing but only returns the pandas.DataFrame.\n",
    "- __get_record()__ retrieves a single matching record from the database as a Record object.  If no or multiple matches are found, it will throw an error.  This is convenient when your code needs exactly one match. "
   ]
  },
  {
   "cell_type": "code",
   "execution_count": 6,
   "id": "a3372ddf-f028-423e-9db1-a357da98e7a2",
   "metadata": {},
   "outputs": [
    {
     "data": {
      "text/html": [
       "<div>\n",
       "<style scoped>\n",
       "    .dataframe tbody tr th:only-of-type {\n",
       "        vertical-align: middle;\n",
       "    }\n",
       "\n",
       "    .dataframe tbody tr th {\n",
       "        vertical-align: top;\n",
       "    }\n",
       "\n",
       "    .dataframe thead th {\n",
       "        text-align: right;\n",
       "    }\n",
       "</style>\n",
       "<table border=\"1\" class=\"dataframe\">\n",
       "  <thead>\n",
       "    <tr style=\"text-align: right;\">\n",
       "      <th></th>\n",
       "      <th>name</th>\n",
       "      <th>question</th>\n",
       "      <th>answer</th>\n",
       "    </tr>\n",
       "  </thead>\n",
       "  <tbody>\n",
       "    <tr>\n",
       "      <th>0</th>\n",
       "      <td>faq</td>\n",
       "      <td>What does a FAQ Record represent?</td>\n",
       "      <td>A frequently asked question and the correspond...</td>\n",
       "    </tr>\n",
       "    <tr>\n",
       "      <th>1</th>\n",
       "      <td>fuzzy</td>\n",
       "      <td>Fuzzywuzzy was a bear. Fuzzywuzzy had no hair....</td>\n",
       "      <td>Nope.</td>\n",
       "    </tr>\n",
       "    <tr>\n",
       "      <th>2</th>\n",
       "      <td>woodchuck</td>\n",
       "      <td>How much wood would a woodchuck chuck if a woo...</td>\n",
       "      <td>A woodchuck would chuck as much wood as a wood...</td>\n",
       "    </tr>\n",
       "  </tbody>\n",
       "</table>\n",
       "</div>"
      ],
      "text/plain": [
       "        name                                           question  \\\n",
       "0        faq                  What does a FAQ Record represent?   \n",
       "1      fuzzy  Fuzzywuzzy was a bear. Fuzzywuzzy had no hair....   \n",
       "2  woodchuck  How much wood would a woodchuck chuck if a woo...   \n",
       "\n",
       "                                              answer  \n",
       "0  A frequently asked question and the correspond...  \n",
       "1                                              Nope.  \n",
       "2  A woodchuck would chuck as much wood as a wood...  "
      ]
     },
     "execution_count": 6,
     "metadata": {},
     "output_type": "execute_result"
    }
   ],
   "source": [
    "database.get_records_df('faq')"
   ]
  },
  {
   "cell_type": "markdown",
   "id": "f5fdf735-07f0-484f-bd0c-64e331572894",
   "metadata": {},
   "source": [
    "As both question and answer were defined as 'longstr' values, they have a default 'str_contains' Query associated with them.  The get methods will perform the appropriate database query operations if you specify values for question or answer as parameters."
   ]
  },
  {
   "cell_type": "code",
   "execution_count": 7,
   "id": "83108dd3-8ac3-41f6-abb4-8e92e1ff824b",
   "metadata": {},
   "outputs": [
    {
     "data": {
      "text/html": [
       "<div>\n",
       "<style scoped>\n",
       "    .dataframe tbody tr th:only-of-type {\n",
       "        vertical-align: middle;\n",
       "    }\n",
       "\n",
       "    .dataframe tbody tr th {\n",
       "        vertical-align: top;\n",
       "    }\n",
       "\n",
       "    .dataframe thead th {\n",
       "        text-align: right;\n",
       "    }\n",
       "</style>\n",
       "<table border=\"1\" class=\"dataframe\">\n",
       "  <thead>\n",
       "    <tr style=\"text-align: right;\">\n",
       "      <th></th>\n",
       "      <th>name</th>\n",
       "      <th>question</th>\n",
       "      <th>answer</th>\n",
       "    </tr>\n",
       "  </thead>\n",
       "  <tbody>\n",
       "    <tr>\n",
       "      <th>0</th>\n",
       "      <td>fuzzy</td>\n",
       "      <td>Fuzzywuzzy was a bear. Fuzzywuzzy had no hair....</td>\n",
       "      <td>Nope.</td>\n",
       "    </tr>\n",
       "  </tbody>\n",
       "</table>\n",
       "</div>"
      ],
      "text/plain": [
       "    name                                           question answer\n",
       "0  fuzzy  Fuzzywuzzy was a bear. Fuzzywuzzy had no hair....  Nope."
      ]
     },
     "execution_count": 7,
     "metadata": {},
     "output_type": "execute_result"
    }
   ],
   "source": [
    "# Return only records where question contains the word bear.\n",
    "database.get_records_df('faq', question='bear')"
   ]
  },
  {
   "cell_type": "markdown",
   "id": "ad3f9b71-6e61-4ce7-b1c1-c6cc96132388",
   "metadata": {},
   "source": [
    "With get_records, the retrieved Record objects are returned within a numpy array.  This opens up the records to further parsing, which can be done on the associated dataframe then applied to the records."
   ]
  },
  {
   "cell_type": "code",
   "execution_count": 8,
   "id": "6934cda0-5831-4bf1-9722-f0c325b27974",
   "metadata": {},
   "outputs": [],
   "source": [
    "records, df = database.get_records('faq', return_df=True)"
   ]
  },
  {
   "cell_type": "code",
   "execution_count": 9,
   "id": "eb7d3255-1ff0-4cab-9440-9052cb8bacab",
   "metadata": {},
   "outputs": [
    {
     "data": {
      "text/html": [
       "<div>\n",
       "<style scoped>\n",
       "    .dataframe tbody tr th:only-of-type {\n",
       "        vertical-align: middle;\n",
       "    }\n",
       "\n",
       "    .dataframe tbody tr th {\n",
       "        vertical-align: top;\n",
       "    }\n",
       "\n",
       "    .dataframe thead th {\n",
       "        text-align: right;\n",
       "    }\n",
       "</style>\n",
       "<table border=\"1\" class=\"dataframe\">\n",
       "  <thead>\n",
       "    <tr style=\"text-align: right;\">\n",
       "      <th></th>\n",
       "      <th>name</th>\n",
       "      <th>question</th>\n",
       "      <th>answer</th>\n",
       "    </tr>\n",
       "  </thead>\n",
       "  <tbody>\n",
       "    <tr>\n",
       "      <th>0</th>\n",
       "      <td>faq</td>\n",
       "      <td>What does a FAQ Record represent?</td>\n",
       "      <td>A frequently asked question and the correspond...</td>\n",
       "    </tr>\n",
       "    <tr>\n",
       "      <th>2</th>\n",
       "      <td>woodchuck</td>\n",
       "      <td>How much wood would a woodchuck chuck if a woo...</td>\n",
       "      <td>A woodchuck would chuck as much wood as a wood...</td>\n",
       "    </tr>\n",
       "  </tbody>\n",
       "</table>\n",
       "</div>"
      ],
      "text/plain": [
       "        name                                           question  \\\n",
       "0        faq                  What does a FAQ Record represent?   \n",
       "2  woodchuck  How much wood would a woodchuck chuck if a woo...   \n",
       "\n",
       "                                              answer  \n",
       "0  A frequently asked question and the correspond...  \n",
       "2  A woodchuck would chuck as much wood as a wood...  "
      ]
     },
     "execution_count": 9,
     "metadata": {},
     "output_type": "execute_result"
    }
   ],
   "source": [
    "# Use the dataframe to parse out a subset of records\n",
    "df[df.name.isin(['faq', 'woodchuck'])]"
   ]
  },
  {
   "cell_type": "code",
   "execution_count": 10,
   "id": "8be9a088-b3e0-4982-b8a3-cf3c78cc37d3",
   "metadata": {},
   "outputs": [
    {
     "name": "stdout",
     "output_type": "stream",
     "text": [
      "faq\n",
      "woodchuck\n"
     ]
    }
   ],
   "source": [
    "# Apply the parsing operation directly to the array of records to get the appropriate objects.\n",
    "for record in records[df.name.isin(['faq', 'woodchuck'])]:\n",
    "    print(record.name)"
   ]
  },
  {
   "cell_type": "markdown",
   "id": "c8c05604-bfad-45de-af55-f22ed78d3084",
   "metadata": {},
   "source": [
    "## Modifying database records\n",
    "\n",
    "Record content in the database can then be modified with the following operations\n",
    "- __add_record()__ adds a new record to the database.  Will throw an error if an existing record of the same name and style already exist.\n",
    "- __update_record()__ updates the model contents of a record in the database.\n",
    "- __delete_record()__ removes a record from the database.\n",
    "\n",
    "For all of these methods, the record can be directly given as an object, or you can specify the record by giving name and style values.  With add and update, you also have to give model contents as well, either in the record object or separately."
   ]
  },
  {
   "cell_type": "code",
   "execution_count": 11,
   "id": "3256cf6a-e38c-4b01-8753-5579de0559dd",
   "metadata": {},
   "outputs": [
    {
     "data": {
      "text/html": [
       "<div>\n",
       "<style scoped>\n",
       "    .dataframe tbody tr th:only-of-type {\n",
       "        vertical-align: middle;\n",
       "    }\n",
       "\n",
       "    .dataframe tbody tr th {\n",
       "        vertical-align: top;\n",
       "    }\n",
       "\n",
       "    .dataframe thead th {\n",
       "        text-align: right;\n",
       "    }\n",
       "</style>\n",
       "<table border=\"1\" class=\"dataframe\">\n",
       "  <thead>\n",
       "    <tr style=\"text-align: right;\">\n",
       "      <th></th>\n",
       "      <th>name</th>\n",
       "      <th>question</th>\n",
       "      <th>answer</th>\n",
       "    </tr>\n",
       "  </thead>\n",
       "  <tbody>\n",
       "    <tr>\n",
       "      <th>0</th>\n",
       "      <td>baseball</td>\n",
       "      <td>Who's on first?</td>\n",
       "      <td>Yes.</td>\n",
       "    </tr>\n",
       "    <tr>\n",
       "      <th>1</th>\n",
       "      <td>faq</td>\n",
       "      <td>What does a FAQ Record represent?</td>\n",
       "      <td>A frequently asked question and the correspond...</td>\n",
       "    </tr>\n",
       "    <tr>\n",
       "      <th>2</th>\n",
       "      <td>fuzzy</td>\n",
       "      <td>Fuzzywuzzy was a bear. Fuzzywuzzy had no hair....</td>\n",
       "      <td>Nope.</td>\n",
       "    </tr>\n",
       "    <tr>\n",
       "      <th>3</th>\n",
       "      <td>woodchuck</td>\n",
       "      <td>How much wood would a woodchuck chuck if a woo...</td>\n",
       "      <td>A woodchuck would chuck as much wood as a wood...</td>\n",
       "    </tr>\n",
       "  </tbody>\n",
       "</table>\n",
       "</div>"
      ],
      "text/plain": [
       "        name                                           question  \\\n",
       "0   baseball                                    Who's on first?   \n",
       "1        faq                  What does a FAQ Record represent?   \n",
       "2      fuzzy  Fuzzywuzzy was a bear. Fuzzywuzzy had no hair....   \n",
       "3  woodchuck  How much wood would a woodchuck chuck if a woo...   \n",
       "\n",
       "                                              answer  \n",
       "0                                               Yes.  \n",
       "1  A frequently asked question and the correspond...  \n",
       "2                                              Nope.  \n",
       "3  A woodchuck would chuck as much wood as a wood...  "
      ]
     },
     "execution_count": 11,
     "metadata": {},
     "output_type": "execute_result"
    }
   ],
   "source": [
    "# Define a new FAQ record\n",
    "record = yabadaba.load_record('faq', name='baseball', question=\"Who's on first?\", answer='Yes.')\n",
    "\n",
    "# Add it to the database\n",
    "database.add_record(record)\n",
    "database.get_records_df('faq', refresh_cache=True)"
   ]
  },
  {
   "cell_type": "code",
   "execution_count": 14,
   "id": "ae3126b7-20d1-43b9-a3a6-1aebbc9b94d1",
   "metadata": {},
   "outputs": [
    {
     "data": {
      "text/html": [
       "<div>\n",
       "<style scoped>\n",
       "    .dataframe tbody tr th:only-of-type {\n",
       "        vertical-align: middle;\n",
       "    }\n",
       "\n",
       "    .dataframe tbody tr th {\n",
       "        vertical-align: top;\n",
       "    }\n",
       "\n",
       "    .dataframe thead th {\n",
       "        text-align: right;\n",
       "    }\n",
       "</style>\n",
       "<table border=\"1\" class=\"dataframe\">\n",
       "  <thead>\n",
       "    <tr style=\"text-align: right;\">\n",
       "      <th></th>\n",
       "      <th>name</th>\n",
       "      <th>question</th>\n",
       "      <th>answer</th>\n",
       "    </tr>\n",
       "  </thead>\n",
       "  <tbody>\n",
       "    <tr>\n",
       "      <th>0</th>\n",
       "      <td>baseball</td>\n",
       "      <td>Who's on first?</td>\n",
       "      <td>Naturally.</td>\n",
       "    </tr>\n",
       "    <tr>\n",
       "      <th>1</th>\n",
       "      <td>faq</td>\n",
       "      <td>What does a FAQ Record represent?</td>\n",
       "      <td>A frequently asked question and the correspond...</td>\n",
       "    </tr>\n",
       "    <tr>\n",
       "      <th>2</th>\n",
       "      <td>fuzzy</td>\n",
       "      <td>Fuzzywuzzy was a bear. Fuzzywuzzy had no hair....</td>\n",
       "      <td>Nope.</td>\n",
       "    </tr>\n",
       "    <tr>\n",
       "      <th>3</th>\n",
       "      <td>woodchuck</td>\n",
       "      <td>How much wood would a woodchuck chuck if a woo...</td>\n",
       "      <td>A woodchuck would chuck as much wood as a wood...</td>\n",
       "    </tr>\n",
       "  </tbody>\n",
       "</table>\n",
       "</div>"
      ],
      "text/plain": [
       "        name                                           question  \\\n",
       "0   baseball                                    Who's on first?   \n",
       "1        faq                  What does a FAQ Record represent?   \n",
       "2      fuzzy  Fuzzywuzzy was a bear. Fuzzywuzzy had no hair....   \n",
       "3  woodchuck  How much wood would a woodchuck chuck if a woo...   \n",
       "\n",
       "                                              answer  \n",
       "0                                         Naturally.  \n",
       "1  A frequently asked question and the correspond...  \n",
       "2                                              Nope.  \n",
       "3  A woodchuck would chuck as much wood as a wood...  "
      ]
     },
     "execution_count": 14,
     "metadata": {},
     "output_type": "execute_result"
    }
   ],
   "source": [
    "# Modify the record and update the model\n",
    "record.answer = 'Naturally.'\n",
    "record.build_model()\n",
    "\n",
    "\n",
    "# Update it in the database\n",
    "database.update_record(record)\n",
    "database.get_records_df('faq', refresh_cache=True)"
   ]
  },
  {
   "cell_type": "code",
   "execution_count": 15,
   "id": "6c6b9fb4-fa6b-4272-95fb-c5ac0d87fc0c",
   "metadata": {},
   "outputs": [
    {
     "data": {
      "text/html": [
       "<div>\n",
       "<style scoped>\n",
       "    .dataframe tbody tr th:only-of-type {\n",
       "        vertical-align: middle;\n",
       "    }\n",
       "\n",
       "    .dataframe tbody tr th {\n",
       "        vertical-align: top;\n",
       "    }\n",
       "\n",
       "    .dataframe thead th {\n",
       "        text-align: right;\n",
       "    }\n",
       "</style>\n",
       "<table border=\"1\" class=\"dataframe\">\n",
       "  <thead>\n",
       "    <tr style=\"text-align: right;\">\n",
       "      <th></th>\n",
       "      <th>name</th>\n",
       "      <th>question</th>\n",
       "      <th>answer</th>\n",
       "    </tr>\n",
       "  </thead>\n",
       "  <tbody>\n",
       "    <tr>\n",
       "      <th>0</th>\n",
       "      <td>faq</td>\n",
       "      <td>What does a FAQ Record represent?</td>\n",
       "      <td>A frequently asked question and the correspond...</td>\n",
       "    </tr>\n",
       "    <tr>\n",
       "      <th>1</th>\n",
       "      <td>fuzzy</td>\n",
       "      <td>Fuzzywuzzy was a bear. Fuzzywuzzy had no hair....</td>\n",
       "      <td>Nope.</td>\n",
       "    </tr>\n",
       "    <tr>\n",
       "      <th>2</th>\n",
       "      <td>woodchuck</td>\n",
       "      <td>How much wood would a woodchuck chuck if a woo...</td>\n",
       "      <td>A woodchuck would chuck as much wood as a wood...</td>\n",
       "    </tr>\n",
       "  </tbody>\n",
       "</table>\n",
       "</div>"
      ],
      "text/plain": [
       "        name                                           question  \\\n",
       "0        faq                  What does a FAQ Record represent?   \n",
       "1      fuzzy  Fuzzywuzzy was a bear. Fuzzywuzzy had no hair....   \n",
       "2  woodchuck  How much wood would a woodchuck chuck if a woo...   \n",
       "\n",
       "                                              answer  \n",
       "0  A frequently asked question and the correspond...  \n",
       "1                                              Nope.  \n",
       "2  A woodchuck would chuck as much wood as a wood...  "
      ]
     },
     "execution_count": 15,
     "metadata": {},
     "output_type": "execute_result"
    }
   ],
   "source": [
    "# Delete the record\n",
    "database.delete_record(record)\n",
    "database.get_records_df('faq', refresh_cache=True)"
   ]
  },
  {
   "cell_type": "code",
   "execution_count": null,
   "id": "dcc131fd-f52e-45b5-b0d2-d4cb4a9eff37",
   "metadata": {},
   "outputs": [],
   "source": []
  }
 ],
 "metadata": {
  "kernelspec": {
   "display_name": "Python 311",
   "language": "python",
   "name": "py11"
  },
  "language_info": {
   "codemirror_mode": {
    "name": "ipython",
    "version": 3
   },
   "file_extension": ".py",
   "mimetype": "text/x-python",
   "name": "python",
   "nbconvert_exporter": "python",
   "pygments_lexer": "ipython3",
   "version": "3.11.5"
  }
 },
 "nbformat": 4,
 "nbformat_minor": 5
}
