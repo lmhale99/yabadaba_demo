{
 "cells": [
  {
   "cell_type": "markdown",
   "id": "5ce5ed7f-c031-45b0-9855-24b0b6230744",
   "metadata": {},
   "source": [
    "# 1. Defining records in yabadaba\n",
    "\n",
    "This Notebook gives a overview of how yabadaba is designed, shows how Record classes can be defined, and shows off some Record features."
   ]
  },
  {
   "cell_type": "code",
   "execution_count": 45,
   "id": "108e9530-073c-4634-bdaf-043f9032e743",
   "metadata": {},
   "outputs": [],
   "source": [
    "import yabadaba"
   ]
  },
  {
   "cell_type": "markdown",
   "id": "b557dd0e-b935-4b79-8ec2-04ad685a99c1",
   "metadata": {},
   "source": [
    "## Core design of yabadaba"
   ]
  },
  {
   "cell_type": "markdown",
   "id": "874c9c3b-8e2b-4c5b-a784-19a2beec383c",
   "metadata": {},
   "source": [
    "The core design of yabadaba centers around 4 categories of classes\n",
    "\n",
    "- __Database__ The Database classes manage database interactions and provide a (nearly) uniform interface for interacting with different database infrastructures.  Note that the underlying database-specific APIs are still accessible should there be a missing feature.\n",
    "   \n",
    "- __Record__ The Record classes are designed to be the Python representations of your data. Each \"Record\" is for a single data schema, serves as the primary object for interacting with that data, and contains methods for transforming the data between different formats used by the different database infrastructures.\n",
    "\n",
    "- __Value__ The Value classes each represent a different basic data type.  Defining Record attributes as Value objects allows for the associated data to be automatically transformed between different representations as needed for the database interactions. \n",
    "\n",
    "- __Query__ The Query classes define a generic database query operation and how to implement that operation in an efficient way for the different Database types. Most of the Value objects have a single default Query already assigned to them.\n",
    "\n",
    "Classes of all of these categories are handled in a completely modular manner and have an associated \"manager\" object.  If you want to check the status of the different styles, you can call the check_styles() method of the associated manager object, or call yabadaba.check_modules() to see all."
   ]
  },
  {
   "cell_type": "code",
   "execution_count": 2,
   "id": "8bec882f-17f8-4360-b98e-61561a66b99e",
   "metadata": {},
   "outputs": [
    {
     "name": "stdout",
     "output_type": "stream",
     "text": [
      "Database styles that passed import:\n",
      "- local: <class 'yabadaba.database.LocalDatabase.LocalDatabase'>\n",
      "- mongo: <class 'yabadaba.database.MongoDatabase.MongoDatabase'>\n",
      "- cdcs: <class 'yabadaba.database.CDCSDatabase.CDCSDatabase'>\n",
      "Database styles that failed import:\n",
      "\n",
      "\n",
      "Record styles that passed import:\n",
      "Record styles that failed import:\n",
      "\n",
      "\n",
      "Query styles that passed import:\n",
      "- str_contains: <class 'yabadaba.query.StrContainsQuery.StrContainsQuery'>\n",
      "- str_match: <class 'yabadaba.query.StrMatchQuery.StrMatchQuery'>\n",
      "- list_contains: <class 'yabadaba.query.ListContainsQuery.ListContainsQuery'>\n",
      "- int_match: <class 'yabadaba.query.IntMatchQuery.IntMatchQuery'>\n",
      "- float_match: <class 'yabadaba.query.FloatMatchQuery.FloatMatchQuery'>\n",
      "- date_match: <class 'yabadaba.query.DateMatchQuery.DateMatchQuery'>\n",
      "Query styles that failed import:\n",
      "\n",
      "\n",
      "Value styles that passed import:\n",
      "- base: <class 'yabadaba.value.Value.Value'>\n",
      "- str: <class 'yabadaba.value.StrValue.StrValue'>\n",
      "- longstr: <class 'yabadaba.value.LongStrValue.LongStrValue'>\n",
      "- float: <class 'yabadaba.value.FloatValue.FloatValue'>\n",
      "- int: <class 'yabadaba.value.IntValue.IntValue'>\n",
      "- bool: <class 'yabadaba.value.BoolValue.BoolValue'>\n",
      "- floatarray: <class 'yabadaba.value.FloatArrayValue.FloatArrayValue'>\n",
      "Value styles that failed import:\n",
      "\n",
      "\n"
     ]
    }
   ],
   "source": [
    "yabadaba.check_modules()"
   ]
  },
  {
   "cell_type": "code",
   "execution_count": 31,
   "id": "547d6d63-d73a-42fb-82c2-b6c281330100",
   "metadata": {},
   "outputs": [
    {
     "name": "stdout",
     "output_type": "stream",
     "text": [
      "Record styles that passed import:\n",
      "Record styles that failed import:\n",
      "\n"
     ]
    }
   ],
   "source": [
    "yabadaba.recordmanager.check_styles()"
   ]
  },
  {
   "cell_type": "markdown",
   "id": "6b796e51-4177-4282-8979-e7d67dc94841",
   "metadata": {},
   "source": [
    "Note that there are no Records at the moment!  That's because this is the base package and knows nothing about *your* data."
   ]
  },
  {
   "cell_type": "markdown",
   "id": "48508a4f-061c-4d74-b966-8172dc59383e",
   "metadata": {},
   "source": [
    "## Record example: FAQ\n",
    "\n",
    "### Defining a Record class\n",
    "\n",
    "Let's design a simple Record class for a FAQ that has only two fields: a \"question\" and an \"answer\"."
   ]
  },
  {
   "cell_type": "code",
   "execution_count": 3,
   "id": "42c910f6-b3a6-4a09-9feb-1dc8f23f7021",
   "metadata": {},
   "outputs": [],
   "source": [
    "from yabadaba.record import Record\n",
    "from yabadaba import load_value\n",
    "\n",
    "class FAQ(Record):\n",
    "    \"\"\"\n",
    "    Class for representing FAQ (frequently asked question) records.\n",
    "    \"\"\"\n",
    "\n",
    "    ########################## Basic metadata fields ##########################\n",
    "\n",
    "    @property\n",
    "    def style(self):\n",
    "        \"\"\"str: The record style\"\"\"\n",
    "        return 'faq'\n",
    "\n",
    "    @property\n",
    "    def modelroot(self):\n",
    "        \"\"\"str: The root element of the content\"\"\"\n",
    "        return 'faq'\n",
    "    \n",
    "    @property\n",
    "    def xsl_filename(self):\n",
    "        \"\"\"tuple: The module path and file name of the record's xsl html transformer\"\"\"\n",
    "        return ('yabadaba_demo.record.faq', 'FAQ.xsl')\n",
    "\n",
    "    @property\n",
    "    def xsd_filename(self):\n",
    "        \"\"\"tuple: The module path and file name of the record's xsd schema\"\"\"\n",
    "        return ('yabadaba_demo.record.faq', 'FAQ.xsd')\n",
    "\n",
    "    ####################### Define Values and attributes #######################\n",
    "\n",
    "    def _init_value_objects(self) -> list:\n",
    "        \"\"\"\n",
    "        Method that defines the value objects for the Record.  This should\n",
    "        1. Call the method's super() to get default Value objects.\n",
    "        2. Use yabadaba.load_value() to build Value objects that are set to\n",
    "           private attributes of self.\n",
    "        3. Append the list returned by the super() with the new Value objects.\n",
    "\n",
    "        Returns\n",
    "        -------\n",
    "        value_objects: A list of all value objects.\n",
    "        \"\"\"\n",
    "        value_objects = super()._init_value_objects()\n",
    "        \n",
    "        self.__question = load_value('longstr', 'question', self)\n",
    "        value_objects.append(self.__question)\n",
    "\n",
    "        self.__answer = load_value('longstr', 'answer', self)\n",
    "        value_objects.append(self.__answer)\n",
    "\n",
    "        return value_objects\n",
    "\n",
    "    @property\n",
    "    def question(self):\n",
    "        \"\"\"str: The frequently asked question.\"\"\"\n",
    "        return self.__question.value\n",
    "\n",
    "    @question.setter\n",
    "    def question(self, val):\n",
    "        self.__question.value = val\n",
    "\n",
    "    @property\n",
    "    def answer(self):\n",
    "        \"\"\"str: The answer to the frequently asked question.\"\"\"\n",
    "        return self.__answer.value\n",
    "\n",
    "    @answer.setter\n",
    "    def answer(self, val):\n",
    "        self.__answer.value = val\n"
   ]
  },
  {
   "cell_type": "markdown",
   "id": "d2ec4d48-b0ad-4bc0-b96e-6594ee179f98",
   "metadata": {},
   "source": [
    "What all was done to define the FAQ Record?\n",
    "\n",
    "1. The base yabadaba Record class was imported and FAQ was made a subclass of it.\n",
    "2. A style attribute was defined that gives a simple style name to the Record subclass.  This is used to differentiate between the different Record classes.\n",
    "3. A modelroot attribute was defined that gives the name for the root element of the JSON/XML representation of the data.  This is typically derived from the style/class name and helps differentiate the different types of data when stored as JSON or XML.\n",
    "4. An _init_value_objects method was defined.  In it, new Value objects are defined using the yabadaba.load_value method for both question and answer and these Value objects are saved as __private variables.  The value_objects list is appended with the new objects and is returned.\n",
    "5. Class properties and setters are defined for question and answer where they point to the \"value\" attribute of the Value objects."
   ]
  },
  {
   "cell_type": "markdown",
   "id": "f1ef382c-4f2b-4873-a11f-1a25441d4b7e",
   "metadata": {},
   "source": [
    "### Integrating the Record into yabadaba\n",
    "\n",
    "The final step in integrating the record into yabadaba is to add it to the recordmanager.  Since we defined the FAQ class in this notebook, we can simply add it to the recordmanager.loaded_styles dict."
   ]
  },
  {
   "cell_type": "code",
   "execution_count": 32,
   "id": "ae122a26-4a53-4a44-b1a5-e3c2c5efb8bf",
   "metadata": {},
   "outputs": [
    {
     "name": "stdout",
     "output_type": "stream",
     "text": [
      "Record styles that passed import:\n",
      "- faq: <class '__main__.FAQ'>\n",
      "Record styles that failed import:\n",
      "\n"
     ]
    }
   ],
   "source": [
    "yabadaba.recordmanager.loaded_styles['faq'] = FAQ\n",
    "yabadaba.recordmanager.check_styles()"
   ]
  },
  {
   "cell_type": "markdown",
   "id": "5a48f631-371c-4ed8-98e1-1b0e721b2c7f",
   "metadata": {},
   "source": [
    "This works great if you define or import a Record subclass directly before adding it to the manager.  You can also define a Record subclass in a separate module and have that module automatically add it to the recordmanager by calling recordmanager.import_style().  More details are given on this in the next Notebook.\n",
    "\n",
    "Also, note that if you wish new subclasses of Database, Value, and Query can be added in a similar way using the corresponding manager objects in yabadaba."
   ]
  },
  {
   "cell_type": "markdown",
   "id": "0b3758c5-3fa7-4486-96ce-dece3acd1af1",
   "metadata": {},
   "source": [
    "## Basic Record features\n",
    "\n",
    "And now for the cool stuff!\n",
    "\n",
    "Let's define a FAQ object, then assign question and answer values.  Since we defined FAQ in this Notebook, we can init it directly or we can use the yabadaba.load_record() method and give the 'faq' record style.\n",
    "\n",
    "As a quick note, we also give the record a name.  Think of this as the file name for the record should it be saved to a database."
   ]
  },
  {
   "cell_type": "code",
   "execution_count": 33,
   "id": "d53c74f6-cebd-48ed-b45b-a7a663f0cc66",
   "metadata": {},
   "outputs": [],
   "source": [
    "faq1 = yabadaba.load_record('faq', name='test1')"
   ]
  },
  {
   "cell_type": "markdown",
   "id": "555a711d-5067-4d4f-ba21-ab52340e48c5",
   "metadata": {},
   "source": [
    "Now, we can set and get the question and answer values using the associated class properties."
   ]
  },
  {
   "cell_type": "code",
   "execution_count": 34,
   "id": "230ad92c-c286-4ca3-ab3b-da2c1efada2b",
   "metadata": {},
   "outputs": [
    {
     "data": {
      "text/plain": [
       "'How many roads must a man walk down?'"
      ]
     },
     "execution_count": 34,
     "metadata": {},
     "output_type": "execute_result"
    }
   ],
   "source": [
    "faq1.question = \"How many roads must a man walk down?\"\n",
    "faq1.question"
   ]
  },
  {
   "cell_type": "code",
   "execution_count": 35,
   "id": "6f3ccaad-1f3f-4c30-afce-e96afba7aae4",
   "metadata": {},
   "outputs": [
    {
     "data": {
      "text/plain": [
       "'42'"
      ]
     },
     "execution_count": 35,
     "metadata": {},
     "output_type": "execute_result"
    }
   ],
   "source": [
    "faq1.answer = 42\n",
    "faq1.answer"
   ]
  },
  {
   "cell_type": "markdown",
   "id": "3a25c276-58a8-4fdd-a0cb-d4942ef63b26",
   "metadata": {},
   "source": [
    "Note that the answer was given as an int but is now a str! This is because answer was defined as a 'longstr' Value in the record.  The Value objects handle automatic data type conversions to what they are meant to represent!\n",
    "\n",
    "We can alternatively provide question and answer values when defining a FAQ.  The Record automatically knows to assign the given values."
   ]
  },
  {
   "cell_type": "code",
   "execution_count": 36,
   "id": "3ca07d7e-f393-4fe3-bc91-aeaa3839a095",
   "metadata": {},
   "outputs": [
    {
     "name": "stdout",
     "output_type": "stream",
     "text": [
      "Who's on first?\n",
      "Yes.\n"
     ]
    }
   ],
   "source": [
    "faq2 = yabadaba.load_record('faq', name='test2', question=\"Who's on first?\", answer='Yes.')\n",
    "print(faq2.question)\n",
    "print(faq2.answer)"
   ]
  },
  {
   "cell_type": "markdown",
   "id": "308a8ac5-c6f6-429a-b460-d22bc43868fd",
   "metadata": {},
   "source": [
    "## Data format conversions\n",
    "\n",
    "The Record objects also have a number of methods for converting the data between different formats.\n",
    "\n",
    "### Flat metadata dict\n",
    "\n",
    "metadata generates a flat dictionary for the record that includes any simple data type values (int, str, float, bool, None) "
   ]
  },
  {
   "cell_type": "code",
   "execution_count": 37,
   "id": "d6a9b6af-0180-4b11-bd9d-6157c6fc59af",
   "metadata": {},
   "outputs": [
    {
     "data": {
      "text/plain": [
       "{'name': 'test1',\n",
       " 'question': 'How many roads must a man walk down?',\n",
       " 'answer': '42'}"
      ]
     },
     "execution_count": 37,
     "metadata": {},
     "output_type": "execute_result"
    }
   ],
   "source": [
    "faq1.metadata()"
   ]
  },
  {
   "cell_type": "markdown",
   "id": "d65cbc75-9d97-4ac7-918a-c04254244e85",
   "metadata": {},
   "source": [
    "### Tree-like JSON/XML data models\n",
    "\n",
    "JSON/XML conversions are managed by model, build_model(), load_model(), and reload_model().\n",
    "\n",
    "- model is embedded DataModelDicts representing the tree-like data structure of JSON/XML.  DataModelDict simply expands upon the basic dict with JSON and XML converters and additional tools that help with such data.  This only exists *after* loading a model or calling build_model().\n",
    "- build_model() creates model based on the current values of the Record class attributes.\n",
    "- load_model() reads in JSON or XML content, sets model, and sets the values of the Record class attributes.\n",
    "- reload_model() updates the values of the Record class attributes based on what is currently in model.  This is useful if you alter the data in the model representation.\n",
    "\n",
    "The important thing to keep in mind is that the \"model\" representation is separate from the \"attribute\" representation.  \n",
    "\n",
    "Calling build_model() constructs the model and returns its value."
   ]
  },
  {
   "cell_type": "code",
   "execution_count": 38,
   "id": "f0b67ef6-c248-4bc6-9353-056e39238f3b",
   "metadata": {},
   "outputs": [
    {
     "data": {
      "text/plain": [
       "DataModelDict([('faq',\n",
       "                DataModelDict([('question',\n",
       "                                'How many roads must a man walk down?'),\n",
       "                               ('answer', '42')]))])"
      ]
     },
     "execution_count": 38,
     "metadata": {},
     "output_type": "execute_result"
    }
   ],
   "source": [
    "faq1.build_model()"
   ]
  },
  {
   "cell_type": "markdown",
   "id": "5f688ef6-c430-4e25-9d99-6e7d6d57f97f",
   "metadata": {},
   "source": [
    "model can be directly transformed into JSON or XML using the associated methods."
   ]
  },
  {
   "cell_type": "code",
   "execution_count": 39,
   "id": "a2eb46cc-ad43-449c-a407-e832e2a62f1a",
   "metadata": {},
   "outputs": [
    {
     "name": "stdout",
     "output_type": "stream",
     "text": [
      "{\n",
      "  \"faq\": {\n",
      "    \"question\": \"How many roads must a man walk down?\",\n",
      "    \"answer\": \"42\"\n",
      "  }\n",
      "}\n"
     ]
    }
   ],
   "source": [
    "print(faq1.model.json(indent=2))"
   ]
  },
  {
   "cell_type": "code",
   "execution_count": 40,
   "id": "e2e6625e-79c8-4892-a115-f1e80b1a87a8",
   "metadata": {},
   "outputs": [
    {
     "name": "stdout",
     "output_type": "stream",
     "text": [
      "<?xml version=\"1.0\" encoding=\"utf-8\"?>\n",
      "<faq>\n",
      "  <question>How many roads must a man walk down?</question>\n",
      "  <answer>42</answer>\n",
      "</faq>\n"
     ]
    }
   ],
   "source": [
    "print(faq1.model.xml(indent=2))"
   ]
  },
  {
   "cell_type": "markdown",
   "id": "bdc9bce8-94c3-4677-bea8-546b0342a2e3",
   "metadata": {},
   "source": [
    "If you want, you can interact with the data in the model representation directly to retrieve or update values.  *But* remember that changing values in model will not change the associated class attributes unless you call reload_model()!"
   ]
  },
  {
   "cell_type": "code",
   "execution_count": 28,
   "id": "2c389ae6-8126-41f2-8595-5eddb3bc72e5",
   "metadata": {},
   "outputs": [
    {
     "data": {
      "text/plain": [
       "'42'"
      ]
     },
     "execution_count": 28,
     "metadata": {},
     "output_type": "execute_result"
    }
   ],
   "source": [
    "faq1.model['faq']['answer']"
   ]
  },
  {
   "cell_type": "code",
   "execution_count": 29,
   "id": "7d97caee-9bef-4d84-9e2c-d0177fbe647b",
   "metadata": {},
   "outputs": [
    {
     "name": "stdout",
     "output_type": "stream",
     "text": [
      "42\n",
      "8675309\n"
     ]
    }
   ],
   "source": [
    "faq1.model['faq']['answer'] = '8675309'\n",
    "print(faq1.answer)\n",
    "\n",
    "faq1.reload_model()\n",
    "print(faq1.answer)"
   ]
  },
  {
   "cell_type": "markdown",
   "id": "52e99c29-2c08-4ab2-95f9-57cba514b457",
   "metadata": {},
   "source": [
    "### Loading content\n",
    "\n",
    "You can load in JSON or XML content using the load_model() method or by using the model parameter when initializing a Record.  The JSON/XML content can be given as a string, a file path, or an open file object."
   ]
  },
  {
   "cell_type": "code",
   "execution_count": 41,
   "id": "bec93274-ba6b-4917-bce0-2612a50564b6",
   "metadata": {},
   "outputs": [
    {
     "data": {
      "text/plain": [
       "{'name': 'fuzzy',\n",
       " 'question': \"Fuzzywuzzy was a bear. Fuzzywuzzy had no hair. So Fuzzywuzzy wasn't fuzzy, was he?\",\n",
       " 'answer': 'Nope.'}"
      ]
     },
     "execution_count": 41,
     "metadata": {},
     "output_type": "execute_result"
    }
   ],
   "source": [
    "faqjson = \"\"\"{\n",
    "    \"faq\": {\n",
    "        \"question\": \"Fuzzywuzzy was a bear. Fuzzywuzzy had no hair. So Fuzzywuzzy wasn't fuzzy, was he?\",\n",
    "        \"answer\": \"Nope.\"\n",
    "    }\n",
    "}\"\"\"\n",
    "faq3 = yabadaba.load_record('faq', name='fuzzy', model=faqjson)\n",
    "faq3.metadata()"
   ]
  },
  {
   "cell_type": "markdown",
   "id": "0a4f9d9d-a198-4421-ab86-47989f17c3ff",
   "metadata": {},
   "source": [
    "Since you are loading the model contents in, the Record.model attribute will exist without needing to call build_model()."
   ]
  },
  {
   "cell_type": "code",
   "execution_count": 44,
   "id": "bb5ea2b1-6ee1-4976-bf00-c7cf9f8828a9",
   "metadata": {},
   "outputs": [
    {
     "name": "stdout",
     "output_type": "stream",
     "text": [
      "{\n",
      "  \"faq\": {\n",
      "    \"question\": \"Fuzzywuzzy was a bear. Fuzzywuzzy had no hair. So Fuzzywuzzy wasn't fuzzy, was he?\",\n",
      "    \"answer\": \"Nope.\"\n",
      "  }\n",
      "}\n"
     ]
    }
   ],
   "source": [
    "print(faq3.model.json(indent=2))"
   ]
  }
 ],
 "metadata": {
  "kernelspec": {
   "display_name": "Python 311",
   "language": "python",
   "name": "py11"
  },
  "language_info": {
   "codemirror_mode": {
    "name": "ipython",
    "version": 3
   },
   "file_extension": ".py",
   "mimetype": "text/x-python",
   "name": "python",
   "nbconvert_exporter": "python",
   "pygments_lexer": "ipython3",
   "version": "3.11.5"
  }
 },
 "nbformat": 4,
 "nbformat_minor": 5
}
