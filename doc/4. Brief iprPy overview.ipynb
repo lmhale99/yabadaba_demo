{
 "cells": [
  {
   "cell_type": "markdown",
   "id": "56d44193-19d8-4518-b1ba-ce3a616fe2eb",
   "metadata": {},
   "source": [
    "# 4. Brief iprPy overview as an extension of yabadaba\n",
    "\n",
    "While iprPy was one of the original packages that yabadaba branched out from, it can now be thought of as extending yabadaba's capabilities to support performing calculations individually and in high throughput.\n",
    "\n",
    "*Thinking of iprPy in this way is new and still in development.  Ideally, a goal for this upcoming year is to extract out the core functionalities of iprPy from the IPR-specific content (yabadabado?), but lots of work to do.  As such, some of what is described here is currently only conceptual related to wanted features.*\n",
    "\n",
    "\n",
    "## Extending yabadaba\n",
    "\n",
    "At the most basic level, the design of iprPy extends what yabadaba does in three primary ways\n",
    "\n",
    "1. A base Calculation class extends the base Record class with functionality for managing the execution of a calculation function.\n",
    "2. (*planned*) InputValue and ResultValue classes extend Value with calculation-centric operations.\n",
    "3. The Database class is also extended with methods supporting the design and execution of high throughput workflows of calculations."
   ]
  },
  {
   "cell_type": "markdown",
   "id": "a8d4e1aa-79d4-4031-9539-f81429ebfa9c",
   "metadata": {},
   "source": [
    "<img src=\"Data_transformations.png\" width=\"800\">"
   ]
  },
  {
   "cell_type": "markdown",
   "id": "0a7a3ec5-e14d-41ae-a717-6ad49767729f",
   "metadata": {},
   "source": [
    "## Calculation basics"
   ]
  },
  {
   "cell_type": "code",
   "execution_count": 6,
   "id": "2917cfc3-76fa-413f-b10a-4ba08708f310",
   "metadata": {},
   "outputs": [],
   "source": [
    "# https://ipython.org/\n",
    "from IPython.display import display, Markdown\n",
    "\n",
    "import iprPy"
   ]
  },
  {
   "cell_type": "markdown",
   "id": "b9f846e2-289e-4814-a90c-f92b4f1eb2ac",
   "metadata": {},
   "source": [
    "Calculations are modular, just like records"
   ]
  },
  {
   "cell_type": "code",
   "execution_count": 4,
   "id": "23482c3c-fa9a-43e0-8c8f-60b3bf33e33d",
   "metadata": {},
   "outputs": [],
   "source": [
    "calc = iprPy.load_calculation('energy_check')"
   ]
  },
  {
   "cell_type": "markdown",
   "id": "1a980cc1-36c6-4291-b3a6-07b29ae2837c",
   "metadata": {},
   "source": [
    "They have Markdown documentation files that can be accessed from the Calculation objects"
   ]
  },
  {
   "cell_type": "code",
   "execution_count": 8,
   "id": "e676ee04-0a86-4bf2-82f5-ba04067eee20",
   "metadata": {},
   "outputs": [
    {
     "data": {
      "text/markdown": [
       "# energy_check calculation style\n",
       "\n",
       "**Lucas M. Hale**, [lucas.hale@nist.gov](mailto:lucas.hale@nist.gov?Subject=ipr-demo), *Materials Science and Engineering Division, NIST*.\n",
       "\n",
       "Idea suggested by Udo v. Toussaint (Max-Planck-Institute f. Plasmaphysics)\n",
       "\n",
       "## Introduction\n",
       "\n",
       "The energy_check calculation style provides a quick check if the energy of an atomic configuration matches with an expected one.\n",
       "\n",
       "### Version notes\n",
       "\n",
       "### Additional dependencies\n",
       "\n",
       "### Disclaimers\n",
       "\n",
       "- [NIST disclaimers](http://www.nist.gov/public_affairs/disclaimer.cfm)\n",
       "\n",
       "- Small variations in the energy are to be expected due to numerical precisions. \n"
      ],
      "text/plain": [
       "<IPython.core.display.Markdown object>"
      ]
     },
     "metadata": {},
     "output_type": "display_data"
    },
    {
     "data": {
      "text/markdown": [
       "## Method and Theory\n",
       "\n",
       "The calculation performs a quick run 0 (no relaxation) energy calculation on a given atomic configuration using a given potential and compares the computed potential energy versus an expected energy value. "
      ],
      "text/plain": [
       "<IPython.core.display.Markdown object>"
      ]
     },
     "metadata": {},
     "output_type": "display_data"
    }
   ],
   "source": [
    "# Display main docs and theory\n",
    "display(Markdown(calc.maindoc))\n",
    "display(Markdown(calc.theorydoc))"
   ]
  },
  {
   "cell_type": "markdown",
   "id": "0e92a5f6-1542-4b7c-ac32-de0b2c94400d",
   "metadata": {},
   "source": [
    "The Calculation.run() method runs a calculation from a text-based input file.  The template version of this file can be accessed as template"
   ]
  },
  {
   "cell_type": "code",
   "execution_count": 12,
   "id": "98fd3051-648e-484a-b54a-07b19830f30d",
   "metadata": {},
   "outputs": [
    {
     "data": {
      "text/plain": [
       "<bound method Calculation.run of <iprPy.calculation.energy_check.EnergyCheck.EnergyCheck object at 0x7f109fc57710>>"
      ]
     },
     "execution_count": 12,
     "metadata": {},
     "output_type": "execute_result"
    }
   ],
   "source": [
    "calc.run"
   ]
  },
  {
   "cell_type": "code",
   "execution_count": 10,
   "id": "3b2bfb9e-4fcc-4181-b7e3-30036c911ffb",
   "metadata": {},
   "outputs": [
    {
     "name": "stdout",
     "output_type": "stream",
     "text": [
      "# Input script for iprPy calculation energy_check\n",
      "\n",
      "# Calculation Metadata\n",
      "branch                          <branch>\n",
      "\n",
      "# LAMMPS and MPI Commands\n",
      "lammps_command                  <lammps_command>\n",
      "mpi_command                     <mpi_command>\n",
      "\n",
      "# Interatomic Potential\n",
      "potential_file                  <potential_file>\n",
      "potential_kim_id                <potential_kim_id>\n",
      "potential_kim_potid             <potential_kim_potid>\n",
      "potential_dir                   <potential_dir>\n",
      "\n",
      "# Initial System Configuration\n",
      "load_file                       <load_file>\n",
      "load_style                      <load_style>\n",
      "load_options                    <load_options>\n",
      "family                          <family>\n",
      "symbols                         <symbols>\n",
      "box_parameters                  <box_parameters>\n",
      "\n",
      "# Input/Output Units\n",
      "length_unit                     <length_unit>\n",
      "pressure_unit                   <pressure_unit>\n",
      "energy_unit                     <energy_unit>\n",
      "force_unit                      <force_unit>\n",
      "\n"
     ]
    }
   ],
   "source": [
    "print(calc.template)"
   ]
  },
  {
   "cell_type": "markdown",
   "id": "76fc7ad2-75ec-4be4-81b4-a1658cc2c6b4",
   "metadata": {},
   "source": [
    "And, there is Markdown documentation for what the terms are"
   ]
  },
  {
   "cell_type": "code",
   "execution_count": 9,
   "id": "0919ca1d-ff25-418b-9793-eb2445705f8d",
   "metadata": {},
   "outputs": [
    {
     "data": {
      "text/markdown": [
       "# energy_check Input Terms\n",
       "\n",
       "## Calculation Metadata\n",
       "\n",
       "Specifies metadata descriptors common to all calculation styles.\n",
       "\n",
       "- __branch__: A metadata group name that the calculation can be parsed by. Primarily meant for differentiating runs with different settings parameters.\n",
       "\n",
       "## LAMMPS and MPI Commands\n",
       "\n",
       "Specifies the external commands for running LAMMPS and MPI.\n",
       "\n",
       "- __lammps_command__: The path to the executable for running LAMMPS on your system. Don't include command line options.\n",
       "- __mpi_command__: The path to the MPI executable and any command line options to use for calling LAMMPS to run in parallel on your system. LAMMPS will run as a serial process if not given.\n",
       "\n",
       "## Interatomic Potential\n",
       "\n",
       "Specifies the interatomic potential to use and the directory where any associated parameter files are located.\n",
       "\n",
       "- __potential_file__: The path to the potential_LAMMPS or potential_LAMMPS_KIM record that defines the interatomic potential to use for LAMMPS calculations.\n",
       "- __potential_kim_id__: If potential_file is a potential_LAMMPS_KIM record, this allows for the specification of which version of the KIM model to use by specifying a full kim model id.  If not given, the newest known version of the kim model will be assumed.\n",
       "- __potential_kim_potid__: Some potential_LAMMPS_KIM records are associated with multiple potential entries.  This allows for the clear specification of which potential (by potid) to associate with those kim models.This will affect the list of available symbols for the calculation.\n",
       "- __potential_dir__: The path to the directory containing any potential parameter files (eg. eam.alloy setfl files) that are needed for the potential. If not given, then any required files are expected to be in the working directory where the calculation is executed.\n",
       "\n",
       "## Initial System Configuration\n",
       "\n",
       "Specifies the file and options to load for the initial atomic configuration.\n",
       "\n",
       "- __load_file__: The path to the initial configuration file to load.\n",
       "- __load_style__: The atomman.load() style indicating the format of the load_file.\n",
       "- __load_options__: A space-delimited list of key-value pairs for optional style-specific arguments used by atomman.load().\n",
       "- __family__: A metadata descriptor for relating the load_file back to the original crystal structure or prototype that the load_file was based on.  If not given, will use the family field in load_file if load_style is 'system_model', or the file's name otherwise.\n",
       "- __symbols__: A space-delimited list of the potential's atom-model symbols to associate with the loaded system's atom types.  Required if load_file does not contain symbol/species information.\n",
       "- __box_parameters__: Specifies new box parameters to scale the loaded configuration by. Can be given either as a list of three or six numbers: 'a b c' for orthogonal boxes, or 'a b c alpha beta gamma' for triclinic boxes. The a, b, c parameters are in units of length and the alpha, beta, gamma angles are in degrees.\n",
       "\n",
       "## Input/Output Units\n",
       "\n",
       "Specifies the default units to use for the other input keys and to use for saving to the results file.\n",
       "\n",
       "- __length_unit__: The unit of length to use. Default value is 'angstrom'.\n",
       "- __pressure_unit__: The unit of pressure to use.  Default value is 'GPa'.\n",
       "- __energy_unit__: The unit of energy to use.  Default value is 'eV'.\n",
       "- __force_unit__: The unit of force to use.  Default value is 'eV/angstrom'.\n"
      ],
      "text/plain": [
       "<IPython.core.display.Markdown object>"
      ]
     },
     "metadata": {},
     "output_type": "display_data"
    }
   ],
   "source": [
    "display(Markdown(calc.templatedoc))"
   ]
  },
  {
   "cell_type": "markdown",
   "id": "90d4390b-62aa-4f58-ab26-f2e2d52a7ce1",
   "metadata": {},
   "source": [
    "Alternatively, the underlying calculation function can be directly accessed as Calculation.calc()"
   ]
  },
  {
   "cell_type": "code",
   "execution_count": 11,
   "id": "7ea8f1ab-eedb-49ee-b508-a10a5f74aa9b",
   "metadata": {},
   "outputs": [
    {
     "data": {
      "text/plain": [
       "<function iprPy.calculation.energy_check.energy_check.energy_check(lammps_command: str, system: atomman.core.System.System, potential: <function Potential at 0x7f10a9aba0c0>, mpi_command: Optional[str] = None) -> dict>"
      ]
     },
     "execution_count": 11,
     "metadata": {},
     "output_type": "execute_result"
    }
   ],
   "source": [
    "calc.calc"
   ]
  },
  {
   "cell_type": "markdown",
   "id": "a35c3ffa-937a-488a-b219-01e2b8c82c06",
   "metadata": {},
   "source": [
    "## High throughput outline\n",
    "\n",
    "This is an extremely brief overview of how the high throughput workflow is set up.\n",
    "\n",
    "1. The workflow is designed around the text input files.  When you run a single calculation from the text files, each input parameter can have only a single value.  This is indicated by the first \"key\" value needing to be unique.  Alternatively, the input content can be given in Python as a flat dict where each term has a single value.\n",
    "\n",
    "2. High throughput runs of the calculation can then be specified by giving multiple values for some of the inputs.  For simple ht operations, this can be done using a text input where some input parameter terms show up on repeated lines.  Alternatively, the dict version of the input can have lists of values.\n",
    "\n",
    "3. When defining the Calculation class, the input parameters are divided into sets depending on if they are allowed to have multiple values, and if so if they should be iterated in conjunction with any other parameters.  Additional metadata also indicates which input fields should be used to compare for uniqueness.\n",
    "\n",
    "4. The lists of values can also be automatically built based on existing records/calculations in the database.  This allows for the design of workflows consisting of multiple calculations.  This does, however, require users to define the \"buildcombos\" functions to use to map records to input values.\n",
    "\n",
    "5. Running the calculations is then a 2-step process: \"prepare\" generates the set of new calculations to run, and \"runner\" sequentially executes the calculations.  Multiple runners can operate on the same set of prepared calculations allowing for free control on how many jobs are currently active and how many cores each job uses.\n",
    "\n",
    "6. Finally, for established multi-calculation workflows, \"master_prepare\" branches can be defined for a Calculation that collect the standard input + buildcombos sets.  In this way, the default values are specified and the user only has to give modifications. "
   ]
  },
  {
   "cell_type": "code",
   "execution_count": null,
   "id": "df665491-1ee2-4e11-a5a0-cf5d42931856",
   "metadata": {},
   "outputs": [],
   "source": []
  }
 ],
 "metadata": {
  "kernelspec": {
   "display_name": "Python 311",
   "language": "python",
   "name": "py11"
  },
  "language_info": {
   "codemirror_mode": {
    "name": "ipython",
    "version": 3
   },
   "file_extension": ".py",
   "mimetype": "text/x-python",
   "name": "python",
   "nbconvert_exporter": "python",
   "pygments_lexer": "ipython3",
   "version": "3.11.5"
  }
 },
 "nbformat": 4,
 "nbformat_minor": 5
}
